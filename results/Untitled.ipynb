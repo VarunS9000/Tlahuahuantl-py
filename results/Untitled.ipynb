{
 "cells": [
  {
   "cell_type": "code",
   "execution_count": 5,
   "id": "b6e58b6f",
   "metadata": {},
   "outputs": [],
   "source": [
    "import os\n",
    "\n",
    "def list_files(directory_path):\n",
    "    with os.scandir(directory_path) as entries:\n",
    "        files = [entry.name for entry in entries if entry.is_file()]\n",
    "    return files\n",
    "\n",
    "f1 = list_files('img_ss/')\n",
    "f2 = list_files('text_ss/')"
   ]
  },
  {
   "cell_type": "code",
   "execution_count": 6,
   "id": "e941620c",
   "metadata": {},
   "outputs": [
    {
     "data": {
      "text/plain": [
       "['fo10_r.png',\n",
       " 'fo10_v.png',\n",
       " 'fo11_r.png',\n",
       " 'fo11_v.png',\n",
       " 'fo12_r.png',\n",
       " 'fo12_v.png',\n",
       " 'fo13_r.png',\n",
       " 'fo13_v.png',\n",
       " 'fo14_r.png',\n",
       " 'fo1_r.png',\n",
       " 'fo1_v.png',\n",
       " 'fo2_r.png',\n",
       " 'fo2_v.png',\n",
       " 'fo3_r.png',\n",
       " 'fo3_v.png',\n",
       " 'fo4_r.png',\n",
       " 'fo4_v.png',\n",
       " 'fo5_r.png',\n",
       " 'fo5_v.png',\n",
       " 'fo6_r.png',\n",
       " 'fo6_v.png',\n",
       " 'fo7_r.png',\n",
       " 'fo7_v.png',\n",
       " 'fo8_r.png',\n",
       " 'fo8_v.png',\n",
       " 'fo9_r.png',\n",
       " 'fo9_v.png']"
      ]
     },
     "execution_count": 6,
     "metadata": {},
     "output_type": "execute_result"
    }
   ],
   "source": [
    "f1"
   ]
  },
  {
   "cell_type": "code",
   "execution_count": null,
   "id": "0ae24f74",
   "metadata": {},
   "outputs": [],
   "source": [
    "from PIL import Image\n",
    "\n",
    "def resize_image(image_path, new_size):\n",
    "    original_image = Image.open(image_path)\n",
    "    resized_image = original_image.resize(new_size)\n",
    "    return resized_image\n",
    "\n",
    "def side_by_side_images(image1, image2, output_path):\n",
    "    width, height = image1.size\n",
    "    new_image = Image.new('RGB', (width * 2, height))\n",
    "    new_image.paste(image1, (0, 0))\n",
    "    new_image.paste(image2, (width, 0))\n",
    "    new_image.save(output_path)\n",
    "\n",
    "if __name__ == \"__main__\":\n",
    "    # Replace these paths with your image files\n",
    "    image1_path = \"img_ss/fo1_r.png\"\n",
    "    image2_path = \"text_ss/fo1_r.png\"\n",
    "\n",
    "    # Replace these values with the desired size\n",
    "    new_size = (300, 500)\n",
    "\n",
    "    # Replace this path with the desired output path\n",
    "    output_path = \"out.png\"\n",
    "    \n",
    "    for i in range(f1):\n",
    "        \n",
    "\n",
    "        # Resize images\n",
    "        resized_image1 = resize_image(f\"img_ss/{f1[i]}\", new_size)\n",
    "        resized_image2 = resize_image(f\"text_ss/{f1[i]}\", new_size)\n",
    "\n",
    "        # Combine and save images side by side\n",
    "        side_by_side_images(resized_image1, resized_image2, f'pairs/{f1[i]}')\n"
   ]
  }
 ],
 "metadata": {
  "kernelspec": {
   "display_name": "Python 3 (ipykernel)",
   "language": "python",
   "name": "python3"
  },
  "language_info": {
   "codemirror_mode": {
    "name": "ipython",
    "version": 3
   },
   "file_extension": ".py",
   "mimetype": "text/x-python",
   "name": "python",
   "nbconvert_exporter": "python",
   "pygments_lexer": "ipython3",
   "version": "3.9.13"
  }
 },
 "nbformat": 4,
 "nbformat_minor": 5
}
